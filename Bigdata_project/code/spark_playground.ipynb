{
  "nbformat": 4,
  "nbformat_minor": 0,
  "metadata": {
    "colab": {
      "name": "spark_playground.ipynb",
      "provenance": [],
      "collapsed_sections": [],
      "authorship_tag": "ABX9TyN0+OSFiCxwApaEwi7sjbna",
      "include_colab_link": true
    },
    "kernelspec": {
      "name": "python3",
      "display_name": "Python 3"
    },
    "language_info": {
      "name": "python"
    }
  },
  "cells": [
    {
      "cell_type": "markdown",
      "metadata": {
        "id": "view-in-github",
        "colab_type": "text"
      },
      "source": [
        "<a href=\"https://colab.research.google.com/github/Richardbmk/AWS_AnaliticsNotes/blob/master/Bigdata_project/code/spark_playground.ipynb\" target=\"_parent\"><img src=\"https://colab.research.google.com/assets/colab-badge.svg\" alt=\"Open In Colab\"/></a>"
      ]
    },
    {
      "cell_type": "markdown",
      "metadata": {
        "id": "k6pJGrOZfPUO"
      },
      "source": [
        "# **Installation of Spark**"
      ]
    },
    {
      "cell_type": "code",
      "metadata": {
        "id": "BCqnain3Nrgb"
      },
      "source": [
        "!apt-get install openjdk-8-jdk-headless -qq > /dev/null"
      ],
      "execution_count": 3,
      "outputs": []
    },
    {
      "cell_type": "code",
      "metadata": {
        "id": "fFVpya6rOGDN"
      },
      "source": [
        "import os"
      ],
      "execution_count": 4,
      "outputs": []
    },
    {
      "cell_type": "code",
      "metadata": {
        "colab": {
          "base_uri": "https://localhost:8080/"
        },
        "id": "EHpo-3r-OKES",
        "outputId": "ef3f07dd-5d72-4a9a-b8e8-e0164bf9adc4"
      },
      "source": [
        "os.system(\"wget -q https://archive.apache.org/dist/spark/spark-3.1.1/spark-3.1.1-bin-hadoop2.7.tgz\")"
      ],
      "execution_count": 5,
      "outputs": [
        {
          "output_type": "execute_result",
          "data": {
            "text/plain": [
              "0"
            ]
          },
          "metadata": {
            "tags": []
          },
          "execution_count": 5
        }
      ]
    },
    {
      "cell_type": "code",
      "metadata": {
        "colab": {
          "base_uri": "https://localhost:8080/"
        },
        "id": "xXiRaNsrQAsl",
        "outputId": "0b008606-d2a1-4cbf-cf41-03b750785148"
      },
      "source": [
        "ls -l"
      ],
      "execution_count": 6,
      "outputs": [
        {
          "output_type": "stream",
          "text": [
            "total 219156\n",
            "drwxr-xr-x  1 root root      4096 Mar 25 13:38 \u001b[0m\u001b[01;34msample_data\u001b[0m/\n",
            "-rw-r--r--  1 root root     32363 Apr  5 05:51 sample_movielens_ratings.txt\n",
            "drwxr-xr-x 13 1000 1000      4096 Feb 22 02:44 \u001b[01;34mspark-3.1.1-bin-hadoop2.7\u001b[0m/\n",
            "-rw-r--r--  1 root root 224374704 Feb 22 02:45 spark-3.1.1-bin-hadoop2.7.tgz\n"
          ],
          "name": "stdout"
        }
      ]
    },
    {
      "cell_type": "code",
      "metadata": {
        "colab": {
          "base_uri": "https://localhost:8080/"
        },
        "id": "Em39VeDiQERo",
        "outputId": "a67424bc-3e0c-4a49-fea5-8870b94bea5d"
      },
      "source": [
        "os.system(\"tar xf /spark-3.1.1-bin-hadoop2.7.tgz\")"
      ],
      "execution_count": 7,
      "outputs": [
        {
          "output_type": "execute_result",
          "data": {
            "text/plain": [
              "512"
            ]
          },
          "metadata": {
            "tags": []
          },
          "execution_count": 7
        }
      ]
    },
    {
      "cell_type": "code",
      "metadata": {
        "colab": {
          "base_uri": "https://localhost:8080/"
        },
        "id": "kiIpva8BQKq_",
        "outputId": "3c955ffc-5c35-4177-c8a1-784360a1bf6a"
      },
      "source": [
        "ls -l"
      ],
      "execution_count": 8,
      "outputs": [
        {
          "output_type": "stream",
          "text": [
            "total 219156\n",
            "drwxr-xr-x  1 root root      4096 Mar 25 13:38 \u001b[0m\u001b[01;34msample_data\u001b[0m/\n",
            "-rw-r--r--  1 root root     32363 Apr  5 05:51 sample_movielens_ratings.txt\n",
            "drwxr-xr-x 13 1000 1000      4096 Feb 22 02:44 \u001b[01;34mspark-3.1.1-bin-hadoop2.7\u001b[0m/\n",
            "-rw-r--r--  1 root root 224374704 Feb 22 02:45 spark-3.1.1-bin-hadoop2.7.tgz\n"
          ],
          "name": "stdout"
        }
      ]
    },
    {
      "cell_type": "code",
      "metadata": {
        "id": "hx8wjFd4QPjf"
      },
      "source": [
        "!tar xf spark-3.1.1-bin-hadoop2.7.tgz"
      ],
      "execution_count": 9,
      "outputs": []
    },
    {
      "cell_type": "code",
      "metadata": {
        "colab": {
          "base_uri": "https://localhost:8080/"
        },
        "id": "TQkm1hbIQZVd",
        "outputId": "84afe463-53c7-425d-dd99-0ed710fedd30"
      },
      "source": [
        "ls -l"
      ],
      "execution_count": 10,
      "outputs": [
        {
          "output_type": "stream",
          "text": [
            "total 219156\n",
            "drwxr-xr-x  1 root root      4096 Mar 25 13:38 \u001b[0m\u001b[01;34msample_data\u001b[0m/\n",
            "-rw-r--r--  1 root root     32363 Apr  5 05:51 sample_movielens_ratings.txt\n",
            "drwxr-xr-x 13 1000 1000      4096 Feb 22 02:44 \u001b[01;34mspark-3.1.1-bin-hadoop2.7\u001b[0m/\n",
            "-rw-r--r--  1 root root 224374704 Feb 22 02:45 spark-3.1.1-bin-hadoop2.7.tgz\n"
          ],
          "name": "stdout"
        }
      ]
    },
    {
      "cell_type": "code",
      "metadata": {
        "id": "qusY_WOrQbqx"
      },
      "source": [
        "rm spark-3.1.1-bin-hadoop2.7.tgz"
      ],
      "execution_count": 11,
      "outputs": []
    },
    {
      "cell_type": "code",
      "metadata": {
        "colab": {
          "base_uri": "https://localhost:8080/"
        },
        "id": "zohv8ozfQgxE",
        "outputId": "427b5835-80b0-4738-83f2-206126541c9c"
      },
      "source": [
        "ls -l"
      ],
      "execution_count": 12,
      "outputs": [
        {
          "output_type": "stream",
          "text": [
            "total 40\n",
            "drwxr-xr-x  1 root root  4096 Mar 25 13:38 \u001b[0m\u001b[01;34msample_data\u001b[0m/\n",
            "-rw-r--r--  1 root root 32363 Apr  5 05:51 sample_movielens_ratings.txt\n",
            "drwxr-xr-x 13 1000 1000  4096 Feb 22 02:44 \u001b[01;34mspark-3.1.1-bin-hadoop2.7\u001b[0m/\n"
          ],
          "name": "stdout"
        }
      ]
    },
    {
      "cell_type": "code",
      "metadata": {
        "id": "yMAl2y8xQiAT"
      },
      "source": [
        "!pip install -q findspark"
      ],
      "execution_count": 13,
      "outputs": []
    },
    {
      "cell_type": "code",
      "metadata": {
        "id": "ivsh7x2SQrwC"
      },
      "source": [
        "os.environ[\"JAVA_HOME\"] = \"/usr/lib/jvm/java-8-openjdk-amd64\"\n",
        "os.environ[\"SPARK_HOME\"] = \"/content/spark-3.1.1-bin-hadoop2.7\""
      ],
      "execution_count": 14,
      "outputs": []
    },
    {
      "cell_type": "code",
      "metadata": {
        "id": "6vcpFB5bRRVw"
      },
      "source": [
        "import findspark\n",
        "findspark.init()"
      ],
      "execution_count": 15,
      "outputs": []
    },
    {
      "cell_type": "code",
      "metadata": {
        "id": "dm11wauLRy1C"
      },
      "source": [
        "from pyspark.sql import SparkSession\n",
        "spark = SparkSession.builder.master(\"local[*]\").getOrCreate()"
      ],
      "execution_count": 16,
      "outputs": []
    },
    {
      "cell_type": "code",
      "metadata": {
        "colab": {
          "base_uri": "https://localhost:8080/",
          "height": 216
        },
        "id": "belJHdRUSDTV",
        "outputId": "91f8068a-52ad-4a92-bde6-761b8474592f"
      },
      "source": [
        "spark"
      ],
      "execution_count": 17,
      "outputs": [
        {
          "output_type": "execute_result",
          "data": {
            "text/html": [
              "\n",
              "            <div>\n",
              "                <p><b>SparkSession - in-memory</b></p>\n",
              "                \n",
              "        <div>\n",
              "            <p><b>SparkContext</b></p>\n",
              "\n",
              "            <p><a href=\"http://d3969c99dd8c:4040\">Spark UI</a></p>\n",
              "\n",
              "            <dl>\n",
              "              <dt>Version</dt>\n",
              "                <dd><code>v3.1.1</code></dd>\n",
              "              <dt>Master</dt>\n",
              "                <dd><code>local[*]</code></dd>\n",
              "              <dt>AppName</dt>\n",
              "                <dd><code>pyspark-shell</code></dd>\n",
              "            </dl>\n",
              "        </div>\n",
              "        \n",
              "            </div>\n",
              "        "
            ],
            "text/plain": [
              "<pyspark.sql.session.SparkSession at 0x7f8512231150>"
            ]
          },
          "metadata": {
            "tags": []
          },
          "execution_count": 17
        }
      ]
    },
    {
      "cell_type": "markdown",
      "metadata": {
        "id": "jhAASLhCfSTH"
      },
      "source": [
        "# **Basic Sample of Spark**"
      ]
    },
    {
      "cell_type": "code",
      "metadata": {
        "id": "vaxBsRP8SLnj"
      },
      "source": [
        "data = './sample_data/california_housing_train.csv'\n",
        "df_spark = spark.read.csv(data, inferSchema=True, header=True)"
      ],
      "execution_count": 18,
      "outputs": []
    },
    {
      "cell_type": "code",
      "metadata": {
        "colab": {
          "base_uri": "https://localhost:8080/"
        },
        "id": "sW1uYy4FS-GF",
        "outputId": "c04ef7ba-a83f-4684-c57a-5bb62abd61e9"
      },
      "source": [
        "type(df_spark)"
      ],
      "execution_count": 19,
      "outputs": [
        {
          "output_type": "execute_result",
          "data": {
            "text/plain": [
              "pyspark.sql.dataframe.DataFrame"
            ]
          },
          "metadata": {
            "tags": []
          },
          "execution_count": 19
        }
      ]
    },
    {
      "cell_type": "code",
      "metadata": {
        "colab": {
          "base_uri": "https://localhost:8080/"
        },
        "id": "lhfA6DsNTCCz",
        "outputId": "193bb3c1-340a-42e8-cd08-8f60d45bff3a"
      },
      "source": [
        "df_spark.count()"
      ],
      "execution_count": 20,
      "outputs": [
        {
          "output_type": "execute_result",
          "data": {
            "text/plain": [
              "17000"
            ]
          },
          "metadata": {
            "tags": []
          },
          "execution_count": 20
        }
      ]
    },
    {
      "cell_type": "code",
      "metadata": {
        "colab": {
          "base_uri": "https://localhost:8080/"
        },
        "id": "wr8LKC1sTGS1",
        "outputId": "23ddf73d-2922-48cb-c6bf-1dec1a1b3a41"
      },
      "source": [
        "df_spark.printSchema()"
      ],
      "execution_count": 21,
      "outputs": [
        {
          "output_type": "stream",
          "text": [
            "root\n",
            " |-- longitude: double (nullable = true)\n",
            " |-- latitude: double (nullable = true)\n",
            " |-- housing_median_age: double (nullable = true)\n",
            " |-- total_rooms: double (nullable = true)\n",
            " |-- total_bedrooms: double (nullable = true)\n",
            " |-- population: double (nullable = true)\n",
            " |-- households: double (nullable = true)\n",
            " |-- median_income: double (nullable = true)\n",
            " |-- median_house_value: double (nullable = true)\n",
            "\n"
          ],
          "name": "stdout"
        }
      ]
    },
    {
      "cell_type": "code",
      "metadata": {
        "colab": {
          "base_uri": "https://localhost:8080/"
        },
        "id": "EMwg9QCdTKQ8",
        "outputId": "fd0873d2-c23f-439a-a570-620f2d89c268"
      },
      "source": [
        "df_spark.columns"
      ],
      "execution_count": 22,
      "outputs": [
        {
          "output_type": "execute_result",
          "data": {
            "text/plain": [
              "['longitude',\n",
              " 'latitude',\n",
              " 'housing_median_age',\n",
              " 'total_rooms',\n",
              " 'total_bedrooms',\n",
              " 'population',\n",
              " 'households',\n",
              " 'median_income',\n",
              " 'median_house_value']"
            ]
          },
          "metadata": {
            "tags": []
          },
          "execution_count": 22
        }
      ]
    },
    {
      "cell_type": "code",
      "metadata": {
        "colab": {
          "base_uri": "https://localhost:8080/"
        },
        "id": "7TZEFLlUTPYc",
        "outputId": "dfc475ef-5bd0-4979-faf2-083ba2e5455f"
      },
      "source": [
        "df_spark.show()"
      ],
      "execution_count": 23,
      "outputs": [
        {
          "output_type": "stream",
          "text": [
            "+---------+--------+------------------+-----------+--------------+----------+----------+-------------+------------------+\n",
            "|longitude|latitude|housing_median_age|total_rooms|total_bedrooms|population|households|median_income|median_house_value|\n",
            "+---------+--------+------------------+-----------+--------------+----------+----------+-------------+------------------+\n",
            "|  -114.31|   34.19|              15.0|     5612.0|        1283.0|    1015.0|     472.0|       1.4936|           66900.0|\n",
            "|  -114.47|    34.4|              19.0|     7650.0|        1901.0|    1129.0|     463.0|         1.82|           80100.0|\n",
            "|  -114.56|   33.69|              17.0|      720.0|         174.0|     333.0|     117.0|       1.6509|           85700.0|\n",
            "|  -114.57|   33.64|              14.0|     1501.0|         337.0|     515.0|     226.0|       3.1917|           73400.0|\n",
            "|  -114.57|   33.57|              20.0|     1454.0|         326.0|     624.0|     262.0|        1.925|           65500.0|\n",
            "|  -114.58|   33.63|              29.0|     1387.0|         236.0|     671.0|     239.0|       3.3438|           74000.0|\n",
            "|  -114.58|   33.61|              25.0|     2907.0|         680.0|    1841.0|     633.0|       2.6768|           82400.0|\n",
            "|  -114.59|   34.83|              41.0|      812.0|         168.0|     375.0|     158.0|       1.7083|           48500.0|\n",
            "|  -114.59|   33.61|              34.0|     4789.0|        1175.0|    3134.0|    1056.0|       2.1782|           58400.0|\n",
            "|   -114.6|   34.83|              46.0|     1497.0|         309.0|     787.0|     271.0|       2.1908|           48100.0|\n",
            "|   -114.6|   33.62|              16.0|     3741.0|         801.0|    2434.0|     824.0|       2.6797|           86500.0|\n",
            "|   -114.6|    33.6|              21.0|     1988.0|         483.0|    1182.0|     437.0|        1.625|           62000.0|\n",
            "|  -114.61|   34.84|              48.0|     1291.0|         248.0|     580.0|     211.0|       2.1571|           48600.0|\n",
            "|  -114.61|   34.83|              31.0|     2478.0|         464.0|    1346.0|     479.0|        3.212|           70400.0|\n",
            "|  -114.63|   32.76|              15.0|     1448.0|         378.0|     949.0|     300.0|       0.8585|           45000.0|\n",
            "|  -114.65|   34.89|              17.0|     2556.0|         587.0|    1005.0|     401.0|       1.6991|           69100.0|\n",
            "|  -114.65|    33.6|              28.0|     1678.0|         322.0|     666.0|     256.0|       2.9653|           94900.0|\n",
            "|  -114.65|   32.79|              21.0|       44.0|          33.0|      64.0|      27.0|       0.8571|           25000.0|\n",
            "|  -114.66|   32.74|              17.0|     1388.0|         386.0|     775.0|     320.0|       1.2049|           44000.0|\n",
            "|  -114.67|   33.92|              17.0|       97.0|          24.0|      29.0|      15.0|       1.2656|           27500.0|\n",
            "+---------+--------+------------------+-----------+--------------+----------+----------+-------------+------------------+\n",
            "only showing top 20 rows\n",
            "\n"
          ],
          "name": "stdout"
        }
      ]
    },
    {
      "cell_type": "code",
      "metadata": {
        "colab": {
          "base_uri": "https://localhost:8080/",
          "height": 359
        },
        "id": "A2FQ1bAJTTgy",
        "outputId": "de493513-7be2-498b-ba20-1580c361a4bc"
      },
      "source": [
        "df_spark.describe().toPandas().transpose()"
      ],
      "execution_count": 24,
      "outputs": [
        {
          "output_type": "execute_result",
          "data": {
            "text/html": [
              "<div>\n",
              "<style scoped>\n",
              "    .dataframe tbody tr th:only-of-type {\n",
              "        vertical-align: middle;\n",
              "    }\n",
              "\n",
              "    .dataframe tbody tr th {\n",
              "        vertical-align: top;\n",
              "    }\n",
              "\n",
              "    .dataframe thead th {\n",
              "        text-align: right;\n",
              "    }\n",
              "</style>\n",
              "<table border=\"1\" class=\"dataframe\">\n",
              "  <thead>\n",
              "    <tr style=\"text-align: right;\">\n",
              "      <th></th>\n",
              "      <th>0</th>\n",
              "      <th>1</th>\n",
              "      <th>2</th>\n",
              "      <th>3</th>\n",
              "      <th>4</th>\n",
              "    </tr>\n",
              "  </thead>\n",
              "  <tbody>\n",
              "    <tr>\n",
              "      <th>summary</th>\n",
              "      <td>count</td>\n",
              "      <td>mean</td>\n",
              "      <td>stddev</td>\n",
              "      <td>min</td>\n",
              "      <td>max</td>\n",
              "    </tr>\n",
              "    <tr>\n",
              "      <th>longitude</th>\n",
              "      <td>17000</td>\n",
              "      <td>-119.56210823529375</td>\n",
              "      <td>2.0051664084260357</td>\n",
              "      <td>-124.35</td>\n",
              "      <td>-114.31</td>\n",
              "    </tr>\n",
              "    <tr>\n",
              "      <th>latitude</th>\n",
              "      <td>17000</td>\n",
              "      <td>35.6252247058827</td>\n",
              "      <td>2.1373397946570867</td>\n",
              "      <td>32.54</td>\n",
              "      <td>41.95</td>\n",
              "    </tr>\n",
              "    <tr>\n",
              "      <th>housing_median_age</th>\n",
              "      <td>17000</td>\n",
              "      <td>28.58935294117647</td>\n",
              "      <td>12.586936981660406</td>\n",
              "      <td>1.0</td>\n",
              "      <td>52.0</td>\n",
              "    </tr>\n",
              "    <tr>\n",
              "      <th>total_rooms</th>\n",
              "      <td>17000</td>\n",
              "      <td>2643.664411764706</td>\n",
              "      <td>2179.947071452777</td>\n",
              "      <td>2.0</td>\n",
              "      <td>37937.0</td>\n",
              "    </tr>\n",
              "    <tr>\n",
              "      <th>total_bedrooms</th>\n",
              "      <td>17000</td>\n",
              "      <td>539.4108235294118</td>\n",
              "      <td>421.4994515798648</td>\n",
              "      <td>1.0</td>\n",
              "      <td>6445.0</td>\n",
              "    </tr>\n",
              "    <tr>\n",
              "      <th>population</th>\n",
              "      <td>17000</td>\n",
              "      <td>1429.5739411764705</td>\n",
              "      <td>1147.852959159527</td>\n",
              "      <td>3.0</td>\n",
              "      <td>35682.0</td>\n",
              "    </tr>\n",
              "    <tr>\n",
              "      <th>households</th>\n",
              "      <td>17000</td>\n",
              "      <td>501.2219411764706</td>\n",
              "      <td>384.5208408559016</td>\n",
              "      <td>1.0</td>\n",
              "      <td>6082.0</td>\n",
              "    </tr>\n",
              "    <tr>\n",
              "      <th>median_income</th>\n",
              "      <td>17000</td>\n",
              "      <td>3.883578100000021</td>\n",
              "      <td>1.9081565183791036</td>\n",
              "      <td>0.4999</td>\n",
              "      <td>15.0001</td>\n",
              "    </tr>\n",
              "    <tr>\n",
              "      <th>median_house_value</th>\n",
              "      <td>17000</td>\n",
              "      <td>207300.91235294117</td>\n",
              "      <td>115983.76438720895</td>\n",
              "      <td>14999.0</td>\n",
              "      <td>500001.0</td>\n",
              "    </tr>\n",
              "  </tbody>\n",
              "</table>\n",
              "</div>"
            ],
            "text/plain": [
              "                        0                    1  ...        3         4\n",
              "summary             count                 mean  ...      min       max\n",
              "longitude           17000  -119.56210823529375  ...  -124.35   -114.31\n",
              "latitude            17000     35.6252247058827  ...    32.54     41.95\n",
              "housing_median_age  17000    28.58935294117647  ...      1.0      52.0\n",
              "total_rooms         17000    2643.664411764706  ...      2.0   37937.0\n",
              "total_bedrooms      17000    539.4108235294118  ...      1.0    6445.0\n",
              "population          17000   1429.5739411764705  ...      3.0   35682.0\n",
              "households          17000    501.2219411764706  ...      1.0    6082.0\n",
              "median_income       17000    3.883578100000021  ...   0.4999   15.0001\n",
              "median_house_value  17000   207300.91235294117  ...  14999.0  500001.0\n",
              "\n",
              "[10 rows x 5 columns]"
            ]
          },
          "metadata": {
            "tags": []
          },
          "execution_count": 24
        }
      ]
    },
    {
      "cell_type": "code",
      "metadata": {
        "colab": {
          "base_uri": "https://localhost:8080/"
        },
        "id": "GWUzUqJMTbPW",
        "outputId": "efff5c23-4c81-475c-aaec-87290ba151d8"
      },
      "source": [
        "df_spark.describe(['median_house_value']).show()"
      ],
      "execution_count": 25,
      "outputs": [
        {
          "output_type": "stream",
          "text": [
            "+-------+------------------+\n",
            "|summary|median_house_value|\n",
            "+-------+------------------+\n",
            "|  count|             17000|\n",
            "|   mean|207300.91235294117|\n",
            "| stddev|115983.76438720895|\n",
            "|    min|           14999.0|\n",
            "|    max|          500001.0|\n",
            "+-------+------------------+\n",
            "\n"
          ],
          "name": "stdout"
        }
      ]
    },
    {
      "cell_type": "markdown",
      "metadata": {
        "id": "UoO4h_wlfZmb"
      },
      "source": [
        "# **ALS Big Data Sample Project**"
      ]
    },
    {
      "cell_type": "code",
      "metadata": {
        "id": "hh2lrrPhTnT2"
      },
      "source": [
        "from pyspark.sql import SparkSession"
      ],
      "execution_count": 26,
      "outputs": []
    },
    {
      "cell_type": "code",
      "metadata": {
        "id": "wcGIOGlLgPnX"
      },
      "source": [
        "# $example on$\n",
        "from pyspark.ml.evaluation import RegressionEvaluator\n",
        "from pyspark.ml.recommendation import ALS\n",
        "from pyspark.sql import Row\n",
        "# $example off$"
      ],
      "execution_count": 27,
      "outputs": []
    },
    {
      "cell_type": "code",
      "metadata": {
        "id": "3uaR0p3zhwqw"
      },
      "source": [
        "if __name__==\"__main__\":\n",
        "  spark = SparkSession.builder.appName(\"ALSExample\").getOrCreate()"
      ],
      "execution_count": 28,
      "outputs": []
    },
    {
      "cell_type": "code",
      "metadata": {
        "id": "NnhL77-diWAP"
      },
      "source": [
        "# $example on$\n",
        "lines = spark.read.text(\"./sample_movielens_ratings.txt\").rdd"
      ],
      "execution_count": 29,
      "outputs": []
    },
    {
      "cell_type": "code",
      "metadata": {
        "colab": {
          "base_uri": "https://localhost:8080/"
        },
        "id": "3_QIAWYWkneN",
        "outputId": "efa041f8-6ccf-49f2-dc0c-b409af0f043f"
      },
      "source": [
        "lines"
      ],
      "execution_count": 30,
      "outputs": [
        {
          "output_type": "execute_result",
          "data": {
            "text/plain": [
              "MapPartitionsRDD[39] at javaToPython at NativeMethodAccessorImpl.java:0"
            ]
          },
          "metadata": {
            "tags": []
          },
          "execution_count": 30
        }
      ]
    },
    {
      "cell_type": "code",
      "metadata": {
        "id": "VMjOF2XFlfdm"
      },
      "source": [
        "parts = lines.map(lambda row: row.value.split(\"::\"))"
      ],
      "execution_count": 31,
      "outputs": []
    },
    {
      "cell_type": "code",
      "metadata": {
        "colab": {
          "base_uri": "https://localhost:8080/"
        },
        "id": "CU5j1nHjlwwc",
        "outputId": "9547d046-b0b6-4650-b0a5-d84c81efc665"
      },
      "source": [
        "parts"
      ],
      "execution_count": 32,
      "outputs": [
        {
          "output_type": "execute_result",
          "data": {
            "text/plain": [
              "PythonRDD[40] at RDD at PythonRDD.scala:53"
            ]
          },
          "metadata": {
            "tags": []
          },
          "execution_count": 32
        }
      ]
    },
    {
      "cell_type": "code",
      "metadata": {
        "id": "c8ELBZEHlxpK"
      },
      "source": [
        "ratingsRDD =parts.map(lambda p: Row(userId=int(p[0]), movieId=int(p[1]), rating=float(p[2]), timestamp=float(p[3])))"
      ],
      "execution_count": 33,
      "outputs": []
    },
    {
      "cell_type": "code",
      "metadata": {
        "colab": {
          "base_uri": "https://localhost:8080/"
        },
        "id": "wgbQrQAvmgT_",
        "outputId": "d12cb3db-49d0-4832-cd88-1b5d48772885"
      },
      "source": [
        "ratingsRDD"
      ],
      "execution_count": 34,
      "outputs": [
        {
          "output_type": "execute_result",
          "data": {
            "text/plain": [
              "PythonRDD[41] at RDD at PythonRDD.scala:53"
            ]
          },
          "metadata": {
            "tags": []
          },
          "execution_count": 34
        }
      ]
    },
    {
      "cell_type": "code",
      "metadata": {
        "id": "mlbV4-Almiw2"
      },
      "source": [
        "ratings = spark.createDataFrame(ratingsRDD)"
      ],
      "execution_count": 35,
      "outputs": []
    },
    {
      "cell_type": "code",
      "metadata": {
        "colab": {
          "base_uri": "https://localhost:8080/"
        },
        "id": "grep9noCmqxd",
        "outputId": "a3f3ec21-56bc-4866-dafa-3c3a2340e07f"
      },
      "source": [
        "ratings"
      ],
      "execution_count": 36,
      "outputs": [
        {
          "output_type": "execute_result",
          "data": {
            "text/plain": [
              "DataFrame[userId: bigint, movieId: bigint, rating: double, timestamp: double]"
            ]
          },
          "metadata": {
            "tags": []
          },
          "execution_count": 36
        }
      ]
    },
    {
      "cell_type": "code",
      "metadata": {
        "colab": {
          "base_uri": "https://localhost:8080/"
        },
        "id": "nAXZ5xDAnFPa",
        "outputId": "1e23f5ac-9781-4a45-d762-6955194a4ec8"
      },
      "source": [
        "ratings.head"
      ],
      "execution_count": 37,
      "outputs": [
        {
          "output_type": "execute_result",
          "data": {
            "text/plain": [
              "<bound method DataFrame.head of DataFrame[userId: bigint, movieId: bigint, rating: double, timestamp: double]>"
            ]
          },
          "metadata": {
            "tags": []
          },
          "execution_count": 37
        }
      ]
    },
    {
      "cell_type": "code",
      "metadata": {
        "colab": {
          "base_uri": "https://localhost:8080/"
        },
        "id": "Qw7zOBj9nbI3",
        "outputId": "364d7578-b0c3-484f-dc4d-69c12455f1d0"
      },
      "source": [
        "ratings.count()"
      ],
      "execution_count": 38,
      "outputs": [
        {
          "output_type": "execute_result",
          "data": {
            "text/plain": [
              "1501"
            ]
          },
          "metadata": {
            "tags": []
          },
          "execution_count": 38
        }
      ]
    },
    {
      "cell_type": "code",
      "metadata": {
        "colab": {
          "base_uri": "https://localhost:8080/"
        },
        "id": "pdGCXEWDnt_n",
        "outputId": "fe8caf0e-5bf2-4972-dad2-2875acb77f28"
      },
      "source": [
        "ratings.show()"
      ],
      "execution_count": 39,
      "outputs": [
        {
          "output_type": "stream",
          "text": [
            "+------+-------+------+-------------+\n",
            "|userId|movieId|rating|    timestamp|\n",
            "+------+-------+------+-------------+\n",
            "|     0|      2|   3.0|1.424380312E9|\n",
            "|     0|      3|   1.0|1.424380312E9|\n",
            "|     0|      5|   2.0|1.424380312E9|\n",
            "|     0|      9|   4.0|1.424380312E9|\n",
            "|     0|     11|   1.0|1.424380312E9|\n",
            "|     0|     12|   2.0|1.424380312E9|\n",
            "|     0|     15|   1.0|1.424380312E9|\n",
            "|     0|     17|   1.0|1.424380312E9|\n",
            "|     0|     19|   1.0|1.424380312E9|\n",
            "|     0|     21|   1.0|1.424380312E9|\n",
            "|     0|     23|   1.0|1.424380312E9|\n",
            "|     0|     26|   3.0|1.424380312E9|\n",
            "|     0|     27|   1.0|1.424380312E9|\n",
            "|     0|     28|   1.0|1.424380312E9|\n",
            "|     0|     29|   1.0|1.424380312E9|\n",
            "|     0|     30|   1.0|1.424380312E9|\n",
            "|     0|     31|   1.0|1.424380312E9|\n",
            "|     0|     34|   1.0|1.424380312E9|\n",
            "|     0|     37|   1.0|1.424380312E9|\n",
            "|     0|     41|   2.0|1.424380312E9|\n",
            "+------+-------+------+-------------+\n",
            "only showing top 20 rows\n",
            "\n"
          ],
          "name": "stdout"
        }
      ]
    },
    {
      "cell_type": "code",
      "metadata": {
        "colab": {
          "base_uri": "https://localhost:8080/"
        },
        "id": "WvkZ-ktDnyWm",
        "outputId": "3babf832-4376-4b36-a291-e3cc83546d72"
      },
      "source": [
        "ratings.printSchema()"
      ],
      "execution_count": 40,
      "outputs": [
        {
          "output_type": "stream",
          "text": [
            "root\n",
            " |-- userId: long (nullable = true)\n",
            " |-- movieId: long (nullable = true)\n",
            " |-- rating: double (nullable = true)\n",
            " |-- timestamp: double (nullable = true)\n",
            "\n"
          ],
          "name": "stdout"
        }
      ]
    },
    {
      "cell_type": "code",
      "metadata": {
        "colab": {
          "base_uri": "https://localhost:8080/"
        },
        "id": "yIJczQBGn-6s",
        "outputId": "5e4ab15f-5f92-40c5-c471-881c3ae21041"
      },
      "source": [
        "ratings.columns"
      ],
      "execution_count": 41,
      "outputs": [
        {
          "output_type": "execute_result",
          "data": {
            "text/plain": [
              "['userId', 'movieId', 'rating', 'timestamp']"
            ]
          },
          "metadata": {
            "tags": []
          },
          "execution_count": 41
        }
      ]
    },
    {
      "cell_type": "code",
      "metadata": {
        "colab": {
          "base_uri": "https://localhost:8080/"
        },
        "id": "cVF39Oq3oBcP",
        "outputId": "e91a749c-c6b7-4d12-c8cb-cd9c6a6150f6"
      },
      "source": [
        "type(ratings)"
      ],
      "execution_count": 42,
      "outputs": [
        {
          "output_type": "execute_result",
          "data": {
            "text/plain": [
              "pyspark.sql.dataframe.DataFrame"
            ]
          },
          "metadata": {
            "tags": []
          },
          "execution_count": 42
        }
      ]
    },
    {
      "cell_type": "code",
      "metadata": {
        "id": "_t1GRveioHXT"
      },
      "source": [
        "(training, test) = ratings.randomSplit([0.8, 0.2])"
      ],
      "execution_count": 43,
      "outputs": []
    },
    {
      "cell_type": "code",
      "metadata": {
        "colab": {
          "base_uri": "https://localhost:8080/"
        },
        "id": "N19Z_b64pVHg",
        "outputId": "c4f807d3-fedb-4121-ddfa-eedfbda9e012"
      },
      "source": [
        "ratings.count()"
      ],
      "execution_count": 44,
      "outputs": [
        {
          "output_type": "execute_result",
          "data": {
            "text/plain": [
              "1501"
            ]
          },
          "metadata": {
            "tags": []
          },
          "execution_count": 44
        }
      ]
    },
    {
      "cell_type": "code",
      "metadata": {
        "colab": {
          "base_uri": "https://localhost:8080/"
        },
        "id": "r-RRm0p0pNWW",
        "outputId": "af50a5f6-8fd1-454d-9041-abe54d431a0a"
      },
      "source": [
        "training.count()"
      ],
      "execution_count": 45,
      "outputs": [
        {
          "output_type": "execute_result",
          "data": {
            "text/plain": [
              "1199"
            ]
          },
          "metadata": {
            "tags": []
          },
          "execution_count": 45
        }
      ]
    },
    {
      "cell_type": "code",
      "metadata": {
        "colab": {
          "base_uri": "https://localhost:8080/"
        },
        "id": "6KpnoUdQpQdi",
        "outputId": "6029be7c-9307-4ebd-8f98-aeeb025a71ea"
      },
      "source": [
        "test.count()"
      ],
      "execution_count": 46,
      "outputs": [
        {
          "output_type": "execute_result",
          "data": {
            "text/plain": [
              "302"
            ]
          },
          "metadata": {
            "tags": []
          },
          "execution_count": 46
        }
      ]
    },
    {
      "cell_type": "markdown",
      "metadata": {
        "id": "KD0MIRYIof-t"
      },
      "source": [
        "##  **Build the recommendation model using ALS on the training data**"
      ]
    },
    {
      "cell_type": "code",
      "metadata": {
        "colab": {
          "base_uri": "https://localhost:8080/"
        },
        "id": "AVUJS0xnoRtt",
        "outputId": "87c134a7-3da1-4068-ee96-3e7e7fe963b2"
      },
      "source": [
        "# Note we set cold start strategy to 'drop' to ensure we don't get NaN evaluation metrics\n",
        "als = ALS(maxIter=5, regParam=0.01, userCol=\"userId\", itemCol=\"movieId\", ratingCol=\"rating\", coldStartStrategy=\"drop\")\n",
        "als"
      ],
      "execution_count": 47,
      "outputs": [
        {
          "output_type": "execute_result",
          "data": {
            "text/plain": [
              "ALS_618fbbd42c06"
            ]
          },
          "metadata": {
            "tags": []
          },
          "execution_count": 47
        }
      ]
    },
    {
      "cell_type": "code",
      "metadata": {
        "colab": {
          "base_uri": "https://localhost:8080/"
        },
        "id": "UsfG5Gs-opw4",
        "outputId": "9c559c81-941a-49be-a958-1f850f01ba92"
      },
      "source": [
        "model = als.fit(training)\n",
        "model"
      ],
      "execution_count": 48,
      "outputs": [
        {
          "output_type": "execute_result",
          "data": {
            "text/plain": [
              "ALSModel: uid=ALS_618fbbd42c06, rank=10"
            ]
          },
          "metadata": {
            "tags": []
          },
          "execution_count": 48
        }
      ]
    },
    {
      "cell_type": "markdown",
      "metadata": {
        "id": "sGbkWdB1pikq"
      },
      "source": [
        "## **Evaluate the model by computing the RMSE on the test data**"
      ]
    },
    {
      "cell_type": "code",
      "metadata": {
        "id": "uj4zHirQpaj7"
      },
      "source": [
        "predictions = model.transform(test)"
      ],
      "execution_count": 49,
      "outputs": []
    },
    {
      "cell_type": "code",
      "metadata": {
        "colab": {
          "base_uri": "https://localhost:8080/"
        },
        "id": "JHO8LizgptB0",
        "outputId": "aae0e12b-5374-45ab-958c-a4ab7dec6352"
      },
      "source": [
        "predictions"
      ],
      "execution_count": 50,
      "outputs": [
        {
          "output_type": "execute_result",
          "data": {
            "text/plain": [
              "DataFrame[userId: bigint, movieId: bigint, rating: double, timestamp: double, prediction: float]"
            ]
          },
          "metadata": {
            "tags": []
          },
          "execution_count": 50
        }
      ]
    },
    {
      "cell_type": "code",
      "metadata": {
        "colab": {
          "base_uri": "https://localhost:8080/"
        },
        "id": "wl6y-LyOpuUE",
        "outputId": "29ab1b91-e9d9-4363-e184-f8b60ddbc5a3"
      },
      "source": [
        "predictions.show()"
      ],
      "execution_count": 51,
      "outputs": [
        {
          "output_type": "stream",
          "text": [
            "+------+-------+------+-------------+-----------+\n",
            "|userId|movieId|rating|    timestamp| prediction|\n",
            "+------+-------+------+-------------+-----------+\n",
            "|    12|     31|   4.0|1.424380312E9|   1.911495|\n",
            "|     8|     31|   3.0|1.424380312E9|  1.1170952|\n",
            "|     7|     31|   3.0|1.424380312E9|  0.6012631|\n",
            "|    28|     85|   1.0|1.424380312E9|  3.1858408|\n",
            "|    12|     85|   1.0|1.424380312E9| 0.12938237|\n",
            "|     4|     85|   1.0|1.424380312E9|   3.853216|\n",
            "|     7|     85|   4.0|1.424380312E9|  3.3408704|\n",
            "|    21|     85|   3.0|1.424380312E9|  2.8958502|\n",
            "|     5|     65|   2.0|1.424380312E9|  0.9912592|\n",
            "|    15|     65|   2.0|1.424380312E9|  0.2259601|\n",
            "|     4|     65|   1.0|1.424380312E9| 0.38207692|\n",
            "|    23|     53|   1.0|1.424380312E9| -0.5596531|\n",
            "|    28|     78|   1.0|1.424380312E9|  0.9736173|\n",
            "|    19|     78|   1.0|1.424380312E9|    1.03233|\n",
            "|    11|     78|   1.0|1.424380312E9| -0.1350382|\n",
            "|    28|     34|   1.0|1.424380312E9|-0.27100372|\n",
            "|    14|     34|   1.0|1.424380312E9|  1.2164042|\n",
            "|     2|     34|   4.0|1.424380312E9|  2.3619866|\n",
            "|    26|     81|   3.0|1.424380312E9|  5.3561974|\n",
            "|     6|     81|   1.0|1.424380312E9|-0.41361564|\n",
            "+------+-------+------+-------------+-----------+\n",
            "only showing top 20 rows\n",
            "\n"
          ],
          "name": "stdout"
        }
      ]
    },
    {
      "cell_type": "code",
      "metadata": {
        "colab": {
          "base_uri": "https://localhost:8080/"
        },
        "id": "FsHZVlU7pxoh",
        "outputId": "580c3d18-3adc-4c1f-d4ae-10edab64a66a"
      },
      "source": [
        "predictions.count()"
      ],
      "execution_count": 52,
      "outputs": [
        {
          "output_type": "execute_result",
          "data": {
            "text/plain": [
              "302"
            ]
          },
          "metadata": {
            "tags": []
          },
          "execution_count": 52
        }
      ]
    },
    {
      "cell_type": "code",
      "metadata": {
        "id": "5DbU8cAOp4V5"
      },
      "source": [
        "evaluator = RegressionEvaluator(metricName=\"rmse\", labelCol=\"rating\", predictionCol=\"prediction\")"
      ],
      "execution_count": 53,
      "outputs": []
    },
    {
      "cell_type": "code",
      "metadata": {
        "colab": {
          "base_uri": "https://localhost:8080/"
        },
        "id": "-GZQnp6yqFNm",
        "outputId": "81db57bd-bfbb-4368-89bb-f21505c03664"
      },
      "source": [
        "evaluator"
      ],
      "execution_count": 54,
      "outputs": [
        {
          "output_type": "execute_result",
          "data": {
            "text/plain": [
              "RegressionEvaluator_a4534572836e"
            ]
          },
          "metadata": {
            "tags": []
          },
          "execution_count": 54
        }
      ]
    },
    {
      "cell_type": "code",
      "metadata": {
        "id": "VUkFCyMuqHt9"
      },
      "source": [
        "rmse = evaluator.evaluate(predictions)"
      ],
      "execution_count": 55,
      "outputs": []
    },
    {
      "cell_type": "code",
      "metadata": {
        "colab": {
          "base_uri": "https://localhost:8080/"
        },
        "id": "7eQR0aEoqP1K",
        "outputId": "765ca700-7109-4393-b8d7-4ff69312fa98"
      },
      "source": [
        "rmse"
      ],
      "execution_count": 56,
      "outputs": [
        {
          "output_type": "execute_result",
          "data": {
            "text/plain": [
              "1.6962591434811327"
            ]
          },
          "metadata": {
            "tags": []
          },
          "execution_count": 56
        }
      ]
    },
    {
      "cell_type": "code",
      "metadata": {
        "colab": {
          "base_uri": "https://localhost:8080/"
        },
        "id": "3ZVs9N61qWXb",
        "outputId": "f8eeef0c-af27-4b75-8378-846bbc3a7d02"
      },
      "source": [
        "print(\"Root-Mean-Square-Error = \" + str(rmse))"
      ],
      "execution_count": 57,
      "outputs": [
        {
          "output_type": "stream",
          "text": [
            "Root-Mean-Square-Error = 1.6962591434811327\n"
          ],
          "name": "stdout"
        }
      ]
    },
    {
      "cell_type": "markdown",
      "metadata": {
        "id": "FQaldqS6qpCz"
      },
      "source": [
        "### **Generate top 10 movie recommendations for each user**"
      ]
    },
    {
      "cell_type": "code",
      "metadata": {
        "id": "g7-CG0PqrKnI"
      },
      "source": [
        "userRecs = model.recommendForAllUsers(10)"
      ],
      "execution_count": 58,
      "outputs": []
    },
    {
      "cell_type": "code",
      "metadata": {
        "colab": {
          "base_uri": "https://localhost:8080/"
        },
        "id": "JWkQSyytrKS6",
        "outputId": "a3637425-0bb8-4c33-f174-e53141468add"
      },
      "source": [
        "userRecs.show()"
      ],
      "execution_count": 59,
      "outputs": [
        {
          "output_type": "stream",
          "text": [
            "+------+--------------------+\n",
            "|userId|     recommendations|\n",
            "+------+--------------------+\n",
            "|    28|[{92, 5.0909753},...|\n",
            "|    26|[{23, 6.1785674},...|\n",
            "|    27|[{39, 5.4898624},...|\n",
            "|    12|[{17, 4.943991}, ...|\n",
            "|    22|[{75, 5.0853486},...|\n",
            "|     1|[{62, 3.8362153},...|\n",
            "|    13|[{93, 3.9575136},...|\n",
            "|     6|[{43, 3.776714}, ...|\n",
            "|    16|[{85, 4.8665037},...|\n",
            "|     3|[{51, 4.774131}, ...|\n",
            "|    20|[{23, 5.205319}, ...|\n",
            "|     5|[{90, 4.039958}, ...|\n",
            "|    19|[{18, 5.0853095},...|\n",
            "|    15|[{43, 3.1264443},...|\n",
            "|    17|[{32, 6.707806}, ...|\n",
            "|     9|[{49, 4.7429285},...|\n",
            "|     4|[{29, 4.1509886},...|\n",
            "|     8|[{29, 4.8969913},...|\n",
            "|    23|[{55, 5.1820483},...|\n",
            "|     7|[{47, 3.759677}, ...|\n",
            "+------+--------------------+\n",
            "only showing top 20 rows\n",
            "\n"
          ],
          "name": "stdout"
        }
      ]
    },
    {
      "cell_type": "markdown",
      "metadata": {
        "id": "5Rd0ut5Krfm1"
      },
      "source": [
        "### **Generate top 10 user recommendations for each movie**"
      ]
    },
    {
      "cell_type": "code",
      "metadata": {
        "id": "N-xaiHnTqfwZ"
      },
      "source": [
        "movieRecs = model.recommendForAllItems(10)"
      ],
      "execution_count": 60,
      "outputs": []
    },
    {
      "cell_type": "code",
      "metadata": {
        "colab": {
          "base_uri": "https://localhost:8080/"
        },
        "id": "Qj8D_sLNq8wj",
        "outputId": "15e87b2c-30ed-4fd2-c2d2-60f45ffa135a"
      },
      "source": [
        "movieRecs.show()"
      ],
      "execution_count": 61,
      "outputs": [
        {
          "output_type": "stream",
          "text": [
            "+-------+--------------------+\n",
            "|movieId|     recommendations|\n",
            "+-------+--------------------+\n",
            "|     31|[{14, 2.7363229},...|\n",
            "|     85|[{16, 4.8665037},...|\n",
            "|     65|[{23, 4.9179025},...|\n",
            "|     53|[{21, 4.846569}, ...|\n",
            "|     78|[{26, 1.2810951},...|\n",
            "|     34|[{11, 4.872094}, ...|\n",
            "|     81|[{26, 5.3561974},...|\n",
            "|     28|[{26, 5.2629313},...|\n",
            "|     76|[{14, 4.74485}, {...|\n",
            "|     26|[{26, 3.8408446},...|\n",
            "|     27|[{11, 4.8782845},...|\n",
            "|     44|[{23, 4.791009}, ...|\n",
            "|     12|[{28, 4.81085}, {...|\n",
            "|     91|[{12, 3.3806934},...|\n",
            "|     22|[{22, 4.98834}, {...|\n",
            "|     93|[{13, 3.9575136},...|\n",
            "|     47|[{11, 4.59161}, {...|\n",
            "|      1|[{16, 1.4052126},...|\n",
            "|     52|[{14, 4.892256}, ...|\n",
            "|     13|[{23, 3.7657557},...|\n",
            "+-------+--------------------+\n",
            "only showing top 20 rows\n",
            "\n"
          ],
          "name": "stdout"
        }
      ]
    },
    {
      "cell_type": "markdown",
      "metadata": {
        "id": "JFZDhMsDrxuz"
      },
      "source": [
        "### **Generate top 10 movie recommendations for a specified set of users**"
      ]
    },
    {
      "cell_type": "code",
      "metadata": {
        "id": "e5mGmkRZq-7z"
      },
      "source": [
        "users = ratings.select(als.getUserCol()).distinct().limit(3)"
      ],
      "execution_count": 62,
      "outputs": []
    },
    {
      "cell_type": "code",
      "metadata": {
        "colab": {
          "base_uri": "https://localhost:8080/"
        },
        "id": "l96l2gY3sCtB",
        "outputId": "dab76d50-470c-44e7-a912-f59bbaf7dab6"
      },
      "source": [
        "users.show()"
      ],
      "execution_count": 63,
      "outputs": [
        {
          "output_type": "stream",
          "text": [
            "+------+\n",
            "|userId|\n",
            "+------+\n",
            "|    26|\n",
            "|    29|\n",
            "|    19|\n",
            "+------+\n",
            "\n"
          ],
          "name": "stdout"
        }
      ]
    },
    {
      "cell_type": "code",
      "metadata": {
        "id": "7KqbRGQKsET8"
      },
      "source": [
        "userSubsetRecs = model.recommendForUserSubset(users, 10)"
      ],
      "execution_count": 64,
      "outputs": []
    },
    {
      "cell_type": "code",
      "metadata": {
        "colab": {
          "base_uri": "https://localhost:8080/"
        },
        "id": "CBAV5poisVby",
        "outputId": "00b2d112-9b75-4cc0-9184-d0682e82f0a3"
      },
      "source": [
        "userSubsetRecs.show()"
      ],
      "execution_count": 65,
      "outputs": [
        {
          "output_type": "stream",
          "text": [
            "+------+--------------------+\n",
            "|userId|     recommendations|\n",
            "+------+--------------------+\n",
            "|    26|[{23, 6.1785674},...|\n",
            "|    19|[{18, 5.0853095},...|\n",
            "|    29|[{46, 4.758663}, ...|\n",
            "+------+--------------------+\n",
            "\n"
          ],
          "name": "stdout"
        }
      ]
    },
    {
      "cell_type": "markdown",
      "metadata": {
        "id": "VwQSJ0l5sfWs"
      },
      "source": [
        "### **Generate top 10 user recommendations for a specified set of movies**"
      ]
    },
    {
      "cell_type": "code",
      "metadata": {
        "id": "8MGfjxZgsYpp"
      },
      "source": [
        "movies = ratings.select(als.getItemCol()).distinct().limit(3)"
      ],
      "execution_count": 66,
      "outputs": []
    },
    {
      "cell_type": "code",
      "metadata": {
        "colab": {
          "base_uri": "https://localhost:8080/"
        },
        "id": "Zv9VFMNDsxtx",
        "outputId": "cd897827-809a-4848-f62e-2881953136af"
      },
      "source": [
        "movies.show()"
      ],
      "execution_count": 67,
      "outputs": [
        {
          "output_type": "stream",
          "text": [
            "+-------+\n",
            "|movieId|\n",
            "+-------+\n",
            "|     26|\n",
            "|     29|\n",
            "|     65|\n",
            "+-------+\n",
            "\n"
          ],
          "name": "stdout"
        }
      ]
    },
    {
      "cell_type": "code",
      "metadata": {
        "id": "Wz6lHGCtsyqY"
      },
      "source": [
        "moviesSubSetRecs = model.recommendForItemSubset(movies, 10)"
      ],
      "execution_count": 68,
      "outputs": []
    },
    {
      "cell_type": "code",
      "metadata": {
        "colab": {
          "base_uri": "https://localhost:8080/"
        },
        "id": "cVL79GiVs8sU",
        "outputId": "3c5d56bc-4601-4693-8122-08f9274722d2"
      },
      "source": [
        "moviesSubSetRecs.show()"
      ],
      "execution_count": 69,
      "outputs": [
        {
          "output_type": "stream",
          "text": [
            "+-------+--------------------+\n",
            "|movieId|     recommendations|\n",
            "+-------+--------------------+\n",
            "|     65|[{23, 4.9179025},...|\n",
            "|     26|[{26, 3.8408446},...|\n",
            "|     29|[{8, 4.8969913}, ...|\n",
            "+-------+--------------------+\n",
            "\n"
          ],
          "name": "stdout"
        }
      ]
    },
    {
      "cell_type": "code",
      "metadata": {
        "id": "7Nl-KJins_Ru"
      },
      "source": [
        ""
      ],
      "execution_count": 69,
      "outputs": []
    },
    {
      "cell_type": "markdown",
      "metadata": {
        "id": "e6WQ3QgitXhU"
      },
      "source": [
        ""
      ]
    },
    {
      "cell_type": "code",
      "metadata": {
        "id": "7aZw9nkctVdC"
      },
      "source": [
        ""
      ],
      "execution_count": 69,
      "outputs": []
    }
  ]
}